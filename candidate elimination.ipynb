{
 "cells": [
  {
   "cell_type": "code",
   "execution_count": 10,
   "id": "f01d73db",
   "metadata": {},
   "outputs": [],
   "source": [
    "import pandas as pd\n",
    "import numpy as np"
   ]
  },
  {
   "cell_type": "code",
   "execution_count": 35,
   "id": "7966bf50",
   "metadata": {},
   "outputs": [],
   "source": [
    "data=pd.read_csv(\"C:/Users/thril/Downloads/sports.csv\")"
   ]
  },
  {
   "cell_type": "code",
   "execution_count": 36,
   "id": "7dd44878",
   "metadata": {},
   "outputs": [
    {
     "data": {
      "text/html": [
       "<div>\n",
       "<style scoped>\n",
       "    .dataframe tbody tr th:only-of-type {\n",
       "        vertical-align: middle;\n",
       "    }\n",
       "\n",
       "    .dataframe tbody tr th {\n",
       "        vertical-align: top;\n",
       "    }\n",
       "\n",
       "    .dataframe thead th {\n",
       "        text-align: right;\n",
       "    }\n",
       "</style>\n",
       "<table border=\"1\" class=\"dataframe\">\n",
       "  <thead>\n",
       "    <tr style=\"text-align: right;\">\n",
       "      <th></th>\n",
       "      <th>sky</th>\n",
       "      <th>airtemp</th>\n",
       "      <th>humidity</th>\n",
       "      <th>wind</th>\n",
       "      <th>water</th>\n",
       "      <th>forecast</th>\n",
       "      <th>enjoysport</th>\n",
       "    </tr>\n",
       "  </thead>\n",
       "  <tbody>\n",
       "    <tr>\n",
       "      <th>0</th>\n",
       "      <td>sunny</td>\n",
       "      <td>warm</td>\n",
       "      <td>normal</td>\n",
       "      <td>strong</td>\n",
       "      <td>warm</td>\n",
       "      <td>same</td>\n",
       "      <td>yes</td>\n",
       "    </tr>\n",
       "    <tr>\n",
       "      <th>1</th>\n",
       "      <td>sunny</td>\n",
       "      <td>warm</td>\n",
       "      <td>high</td>\n",
       "      <td>strong</td>\n",
       "      <td>warm</td>\n",
       "      <td>same</td>\n",
       "      <td>yes</td>\n",
       "    </tr>\n",
       "    <tr>\n",
       "      <th>2</th>\n",
       "      <td>rainy</td>\n",
       "      <td>cold</td>\n",
       "      <td>high</td>\n",
       "      <td>strong</td>\n",
       "      <td>warm</td>\n",
       "      <td>change</td>\n",
       "      <td>no</td>\n",
       "    </tr>\n",
       "    <tr>\n",
       "      <th>3</th>\n",
       "      <td>sunny</td>\n",
       "      <td>warm</td>\n",
       "      <td>high</td>\n",
       "      <td>strong</td>\n",
       "      <td>warm</td>\n",
       "      <td>change</td>\n",
       "      <td>yes</td>\n",
       "    </tr>\n",
       "  </tbody>\n",
       "</table>\n",
       "</div>"
      ],
      "text/plain": [
       "     sky airtemp humidity    wind water forecast enjoysport\n",
       "0  sunny    warm   normal  strong  warm     same        yes\n",
       "1  sunny    warm     high  strong  warm     same        yes\n",
       "2  rainy    cold     high  strong  warm   change         no\n",
       "3  sunny    warm     high  strong  warm   change        yes"
      ]
     },
     "execution_count": 36,
     "metadata": {},
     "output_type": "execute_result"
    }
   ],
   "source": [
    "data"
   ]
  },
  {
   "cell_type": "code",
   "execution_count": 37,
   "id": "3236f627",
   "metadata": {},
   "outputs": [],
   "source": [
    "s=['phi' for i in range(len(data.columns)-1)]\n",
    "g=[]"
   ]
  },
  {
   "cell_type": "code",
   "execution_count": 38,
   "id": "65e1b1b6",
   "metadata": {},
   "outputs": [],
   "source": [
    "def accept(data,r):\n",
    "    for i in range(len(data)):\n",
    "        if data.iloc[i,-1]=='yes':\n",
    "            for j in range(len(data.columns)-1):\n",
    "                if r[j]==data.iloc[i,j] or r[j]=='?':\n",
    "                    continue\n",
    "                else:\n",
    "                    return 0\n",
    "        else:\n",
    "            c=0\n",
    "            for j in range(len(data.columns)-1):\n",
    "                if r[j]==data.iloc[i,j] or r[j]=='?': \n",
    "                    c=c+1\n",
    "            if c==len(r):\n",
    "                return 0\n",
    "    return 1"
   ]
  },
  {
   "cell_type": "code",
   "execution_count": 39,
   "id": "54bde18d",
   "metadata": {},
   "outputs": [],
   "source": [
    "for i in range(len(data)):\n",
    "    if data.iloc[i,-1]=='yes':\n",
    "        for j in range(len(data.columns)-1):\n",
    "            if data.iloc[i,j]==s[j]:\n",
    "                continue\n",
    "            else:\n",
    "                if s[j]=='phi':\n",
    "                    s[j]=data.iloc[i,j]\n",
    "                else:\n",
    "                    s[j]='?'\n",
    "    else:\n",
    "        for j in range(len(data.columns)-1):\n",
    "            m=list(data.iloc[:,j].unique())\n",
    "            m.remove(data.iloc[i,j])\n",
    "            for k in m:\n",
    "                r=['?' for x in range(len(data.columns)-1)]\n",
    "                r[j]=k\n",
    "                if accept(data,r):\n",
    "                    g.append(r)"
   ]
  },
  {
   "cell_type": "code",
   "execution_count": 40,
   "id": "5afa50e0",
   "metadata": {},
   "outputs": [],
   "source": [
    "h=set()\n",
    "h.add(tuple(s))\n",
    "for i in range(len(g)):\n",
    "    h.add(tuple(g[i]))\n",
    "for i in range(len(g)):\n",
    "    for j in range(len(data.columns)-1):\n",
    "        if s[j]!=g[i][j]:\n",
    "            l1=s[:j+1]\n",
    "            l2=g[i][j+1:]\n",
    "            h.add(tuple(l1+l2))\n",
    "            l3=g[i][:j+1]\n",
    "            l4=s[j+1:]\n",
    "            h.add(tuple(l3+l4))\n",
    "            break\n",
    "            \n",
    "    "
   ]
  },
  {
   "cell_type": "code",
   "execution_count": 42,
   "id": "8bb45be3",
   "metadata": {},
   "outputs": [
    {
     "name": "stdout",
     "output_type": "stream",
     "text": [
      "Final hypothesis:\n",
      "{('?', 'warm', '?', '?', '?', '?'), ('?', 'warm', '?', 'strong', 'warm', '?'), ('sunny', 'warm', '?', 'strong', 'warm', '?'), ('sunny', 'warm', '?', '?', '?', '?'), ('sunny', '?', '?', '?', '?', '?'), ('sunny', '?', '?', 'strong', 'warm', '?')}\n"
     ]
    }
   ],
   "source": [
    "print(\"Final hypothesis:\")\n",
    "print(h)"
   ]
  }
 ],
 "metadata": {
  "kernelspec": {
   "display_name": "Python 3 (ipykernel)",
   "language": "python",
   "name": "python3"
  },
  "language_info": {
   "codemirror_mode": {
    "name": "ipython",
    "version": 3
   },
   "file_extension": ".py",
   "mimetype": "text/x-python",
   "name": "python",
   "nbconvert_exporter": "python",
   "pygments_lexer": "ipython3",
   "version": "3.9.13"
  }
 },
 "nbformat": 4,
 "nbformat_minor": 5
}
