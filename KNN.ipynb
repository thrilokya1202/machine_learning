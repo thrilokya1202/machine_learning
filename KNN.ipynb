{
  "nbformat": 4,
  "nbformat_minor": 0,
  "metadata": {
    "colab": {
      "provenance": [],
      "authorship_tag": "ABX9TyOvbpXH5HqOa74XcOKW+9/Z",
      "include_colab_link": true
    },
    "kernelspec": {
      "name": "python3",
      "display_name": "Python 3"
    },
    "language_info": {
      "name": "python"
    }
  },
  "cells": [
    {
      "cell_type": "markdown",
      "metadata": {
        "id": "view-in-github",
        "colab_type": "text"
      },
      "source": [
        "<a href=\"https://colab.research.google.com/github/thrilokya1202/machine_learning/blob/main/KNN.ipynb\" target=\"_parent\"><img src=\"https://colab.research.google.com/assets/colab-badge.svg\" alt=\"Open In Colab\"/></a>"
      ]
    },
    {
      "cell_type": "code",
      "execution_count": null,
      "metadata": {
        "id": "U9vEnBH0Na-I"
      },
      "outputs": [],
      "source": [
        "from sklearn.model_selection import train_test_split\n",
        "from sklearn.neighbors import KNeighborsClassifier\n",
        "from sklearn import datasets\n",
        "from sklearn.metrics import classification_report,confusion_matrix"
      ]
    },
    {
      "cell_type": "code",
      "source": [
        "iris=datasets.load_iris()"
      ],
      "metadata": {
        "id": "o7-uc7C-OTPu"
      },
      "execution_count": null,
      "outputs": []
    },
    {
      "cell_type": "code",
      "source": [
        "x_train,x_test,y_train,y_test=train_test_split(iris.data,iris.target,test_size=0.3)"
      ],
      "metadata": {
        "id": "iVRF1aauOjRF"
      },
      "execution_count": null,
      "outputs": []
    },
    {
      "cell_type": "code",
      "source": [
        "knn=KNeighborsClassifier(n_neighbors=3)\n",
        "knn.fit(x_train,y_train)\n",
        "y_pred=knn.predict(x_test)"
      ],
      "metadata": {
        "id": "kErB2MrGOfBS"
      },
      "execution_count": null,
      "outputs": []
    },
    {
      "cell_type": "code",
      "source": [
        "for i in range(len(x_test)):\n",
        "  print(\"Sample:\",str(x_test[i]),\"Actual label:\",str(y_test[i]),\"Predicted label:\",str(y_pred[i]))"
      ],
      "metadata": {
        "colab": {
          "base_uri": "https://localhost:8080/"
        },
        "id": "lT3lI5MGPO59",
        "outputId": "023ca6b6-f5a4-4527-ab29-72537b7e9958"
      },
      "execution_count": null,
      "outputs": [
        {
          "output_type": "stream",
          "name": "stdout",
          "text": [
            "Sample: [7.3 2.9 6.3 1.8] Actual label: 2 Predicted label: 2\n",
            "Sample: [4.9 3.  1.4 0.2] Actual label: 0 Predicted label: 0\n",
            "Sample: [4.5 2.3 1.3 0.3] Actual label: 0 Predicted label: 0\n",
            "Sample: [5.8 2.7 5.1 1.9] Actual label: 2 Predicted label: 2\n",
            "Sample: [7.2 3.  5.8 1.6] Actual label: 2 Predicted label: 2\n",
            "Sample: [5.7 4.4 1.5 0.4] Actual label: 0 Predicted label: 0\n",
            "Sample: [6.7 3.1 4.4 1.4] Actual label: 1 Predicted label: 1\n",
            "Sample: [6.2 2.2 4.5 1.5] Actual label: 1 Predicted label: 1\n",
            "Sample: [6.3 3.4 5.6 2.4] Actual label: 2 Predicted label: 2\n",
            "Sample: [5.6 3.  4.1 1.3] Actual label: 1 Predicted label: 1\n",
            "Sample: [4.9 2.4 3.3 1. ] Actual label: 1 Predicted label: 1\n",
            "Sample: [4.3 3.  1.1 0.1] Actual label: 0 Predicted label: 0\n",
            "Sample: [6.6 2.9 4.6 1.3] Actual label: 1 Predicted label: 1\n",
            "Sample: [6.7 2.5 5.8 1.8] Actual label: 2 Predicted label: 2\n",
            "Sample: [6.4 2.8 5.6 2.2] Actual label: 2 Predicted label: 2\n",
            "Sample: [5.  3.2 1.2 0.2] Actual label: 0 Predicted label: 0\n",
            "Sample: [6.1 2.6 5.6 1.4] Actual label: 2 Predicted label: 2\n",
            "Sample: [5.6 2.8 4.9 2. ] Actual label: 2 Predicted label: 2\n",
            "Sample: [5.5 3.5 1.3 0.2] Actual label: 0 Predicted label: 0\n",
            "Sample: [5.1 3.5 1.4 0.2] Actual label: 0 Predicted label: 0\n",
            "Sample: [6.9 3.1 4.9 1.5] Actual label: 1 Predicted label: 1\n",
            "Sample: [6.5 3.  5.5 1.8] Actual label: 2 Predicted label: 2\n",
            "Sample: [5.9 3.  5.1 1.8] Actual label: 2 Predicted label: 2\n",
            "Sample: [4.4 3.2 1.3 0.2] Actual label: 0 Predicted label: 0\n",
            "Sample: [5.  2.3 3.3 1. ] Actual label: 1 Predicted label: 1\n",
            "Sample: [7.4 2.8 6.1 1.9] Actual label: 2 Predicted label: 2\n",
            "Sample: [6.  3.  4.8 1.8] Actual label: 2 Predicted label: 2\n",
            "Sample: [6.9 3.1 5.4 2.1] Actual label: 2 Predicted label: 2\n",
            "Sample: [6.3 2.5 5.  1.9] Actual label: 2 Predicted label: 2\n",
            "Sample: [5.2 3.4 1.4 0.2] Actual label: 0 Predicted label: 0\n",
            "Sample: [6.3 2.7 4.9 1.8] Actual label: 2 Predicted label: 2\n",
            "Sample: [6.3 2.5 4.9 1.5] Actual label: 1 Predicted label: 2\n",
            "Sample: [4.8 3.1 1.6 0.2] Actual label: 0 Predicted label: 0\n",
            "Sample: [5.1 3.8 1.9 0.4] Actual label: 0 Predicted label: 0\n",
            "Sample: [5.8 2.7 4.1 1. ] Actual label: 1 Predicted label: 1\n",
            "Sample: [4.9 3.1 1.5 0.1] Actual label: 0 Predicted label: 0\n",
            "Sample: [6.3 2.3 4.4 1.3] Actual label: 1 Predicted label: 1\n",
            "Sample: [6.  3.4 4.5 1.6] Actual label: 1 Predicted label: 1\n",
            "Sample: [5.1 3.8 1.5 0.3] Actual label: 0 Predicted label: 0\n",
            "Sample: [6.4 3.1 5.5 1.8] Actual label: 2 Predicted label: 2\n",
            "Sample: [5.8 2.6 4.  1.2] Actual label: 1 Predicted label: 1\n",
            "Sample: [6.3 3.3 6.  2.5] Actual label: 2 Predicted label: 2\n",
            "Sample: [4.9 3.6 1.4 0.1] Actual label: 0 Predicted label: 0\n",
            "Sample: [6.9 3.1 5.1 2.3] Actual label: 2 Predicted label: 2\n",
            "Sample: [6.1 2.8 4.7 1.2] Actual label: 1 Predicted label: 1\n"
          ]
        }
      ]
    },
    {
      "cell_type": "code",
      "source": [
        "print(\"Confusion matrix\",confusion_matrix(y_test,y_pred))"
      ],
      "metadata": {
        "colab": {
          "base_uri": "https://localhost:8080/"
        },
        "id": "15LIvQvmPtbs",
        "outputId": "4293b980-37fa-4c19-a13f-fb5a8596abc3"
      },
      "execution_count": null,
      "outputs": [
        {
          "output_type": "stream",
          "name": "stdout",
          "text": [
            "Confusion matrix [[14  0  0]\n",
            " [ 0 12  1]\n",
            " [ 0  0 18]]\n"
          ]
        }
      ]
    },
    {
      "cell_type": "code",
      "source": [
        "print(\"Classification report:\",classification_report(y_test,y_pred))"
      ],
      "metadata": {
        "colab": {
          "base_uri": "https://localhost:8080/"
        },
        "id": "ZVChwGysQEST",
        "outputId": "2db604e5-bd14-4d8b-bffa-6e5fdbd19302"
      },
      "execution_count": null,
      "outputs": [
        {
          "output_type": "stream",
          "name": "stdout",
          "text": [
            "Classification report:               precision    recall  f1-score   support\n",
            "\n",
            "           0       1.00      1.00      1.00        14\n",
            "           1       1.00      0.92      0.96        13\n",
            "           2       0.95      1.00      0.97        18\n",
            "\n",
            "    accuracy                           0.98        45\n",
            "   macro avg       0.98      0.97      0.98        45\n",
            "weighted avg       0.98      0.98      0.98        45\n",
            "\n"
          ]
        }
      ]
    }
  ]
}